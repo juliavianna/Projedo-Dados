{
 "cells": [
  {
   "cell_type": "code",
   "execution_count": null,
   "id": "09be7a73-3ffa-4e12-b112-9519dcc3cb90",
   "metadata": {},
   "outputs": [],
   "source": [
    "import numpy as np\n",
    "import pandas as pd\n",
    "\n",
    "df = pd.read_csv('C:\\Users\\julia\\ProjetoDadosPython\\agricultural_raw_material.csv')"
   ]
  },
  {
   "cell_type": "markdown",
   "id": "da48a52f-9931-4512-9556-61dbe77c4bca",
   "metadata": {},
   "source": [
    "### Importando os dados"
   ]
  },
  {
   "cell_type": "code",
   "execution_count": 5,
   "id": "22996ebe-3204-4474-8e22-7c081d20cb04",
   "metadata": {},
   "outputs": [
    {
     "data": {
      "text/plain": [
       "<bound method DataFrame.info of       Month Coarse wool Price Coarse wool price % Change Copra Price  \\\n",
       "0    Apr-90            482.34                          -         236   \n",
       "1    May-90            447.26                     -7.27%         234   \n",
       "2    Jun-90            440.99                     -1.40%         216   \n",
       "3    Jul-90            418.44                     -5.11%         205   \n",
       "4    Aug-90            418.44                      0.00%         198   \n",
       "..      ...               ...                        ...         ...   \n",
       "356  Dec-19               NaN                        NaN         NaN   \n",
       "357  Jan-20               NaN                        NaN         NaN   \n",
       "358  Feb-20               NaN                        NaN         NaN   \n",
       "359  Mar-20               NaN                        NaN         NaN   \n",
       "360  Apr-20               NaN                        NaN         NaN   \n",
       "\n",
       "    Copra price % Change  Cotton Price Cotton price % Change Fine wool Price  \\\n",
       "0                      -          1.83                     -        1,071.63   \n",
       "1                 -0.85%          1.89                 3.28%        1,057.18   \n",
       "2                 -7.69%          1.99                 5.29%          898.24   \n",
       "3                 -5.09%          2.01                 1.01%          895.83   \n",
       "4                 -3.41%          1.79               -10.95%          951.22   \n",
       "..                   ...           ...                   ...             ...   \n",
       "356                  NaN          1.67                 1.21%             NaN   \n",
       "357                  NaN          1.74                 4.19%             NaN   \n",
       "358                  NaN          1.69                -2.87%             NaN   \n",
       "359                  NaN          1.49               -11.83%             NaN   \n",
       "360                  NaN          1.40                -6.04%             NaN   \n",
       "\n",
       "    Fine wool price % Change  Hard log Price  ... Plywood Price  \\\n",
       "0                          -          161.20  ...        312.36   \n",
       "1                     -1.35%          172.86  ...        350.12   \n",
       "2                    -15.03%          181.67  ...        373.94   \n",
       "3                     -0.27%          187.96  ...        378.48   \n",
       "4                      6.18%          186.13  ...        364.60   \n",
       "..                       ...             ...  ...           ...   \n",
       "356                      NaN          272.80  ...        500.37   \n",
       "357                      NaN          272.40  ...        499.64   \n",
       "358                      NaN          270.56  ...        496.28   \n",
       "359                      NaN          276.93  ...        507.96   \n",
       "360                      NaN          276.24  ...        506.68   \n",
       "\n",
       "     Plywood price % Change Rubber Price  Rubber price % Change Softlog Price  \\\n",
       "0                         -         0.84                      -        120.66   \n",
       "1                    12.09%         0.85                  1.19%        124.28   \n",
       "2                     6.80%         0.85                  0.00%        129.45   \n",
       "3                     1.21%         0.86                  1.18%        124.23   \n",
       "4                    -3.67%         0.88                  2.33%        129.70   \n",
       "..                      ...          ...                    ...           ...   \n",
       "356                  -0.22%         1.66                  7.79%           NaN   \n",
       "357                  -0.15%         1.68                  1.20%           NaN   \n",
       "358                  -0.67%         1.61                 -4.17%           NaN   \n",
       "359                   2.35%         1.50                 -6.83%           NaN   \n",
       "360                  -0.25%         1.33                -11.33%           NaN   \n",
       "\n",
       "     Softlog price % Change Soft sawnwood Price  Soft sawnwood price % Change  \\\n",
       "0                         -              218.76                             -   \n",
       "1                     3.00%              213.00                        -2.63%   \n",
       "2                     4.16%              200.00                        -6.10%   \n",
       "3                    -4.03%              210.05                         5.03%   \n",
       "4                     4.40%              208.30                        -0.83%   \n",
       "..                      ...                 ...                           ...   \n",
       "356                     NaN                 NaN                           NaN   \n",
       "357                     NaN                 NaN                           NaN   \n",
       "358                     NaN                 NaN                           NaN   \n",
       "359                     NaN                 NaN                           NaN   \n",
       "360                     NaN                 NaN                           NaN   \n",
       "\n",
       "    Wood pulp Price  Wood pulp price % Change  \n",
       "0            829.29                         -  \n",
       "1            842.51                     1.59%  \n",
       "2            831.35                    -1.32%  \n",
       "3            798.83                    -3.91%  \n",
       "4            818.74                     2.49%  \n",
       "..              ...                       ...  \n",
       "356          875.00                     0.00%  \n",
       "357          875.00                     0.00%  \n",
       "358          875.00                     0.00%  \n",
       "359          875.00                     0.00%  \n",
       "360             NaN                       NaN  \n",
       "\n",
       "[361 rows x 25 columns]>"
      ]
     },
     "execution_count": 5,
     "metadata": {},
     "output_type": "execute_result"
    }
   ],
   "source": [
    "df.info"
   ]
  },
  {
   "cell_type": "code",
   "execution_count": 6,
   "id": "483d251f-2582-4d7d-90ba-fc9829be85e8",
   "metadata": {},
   "outputs": [
    {
     "data": {
      "text/plain": [
       "Month                            0\n",
       "Coarse wool Price               34\n",
       "Coarse wool price % Change      34\n",
       "Copra Price                     22\n",
       "Copra price % Change            22\n",
       "Cotton Price                     0\n",
       "Cotton price % Change            0\n",
       "Fine wool Price                 34\n",
       "Fine wool price % Change        34\n",
       "Hard log Price                   0\n",
       "Hard log price % Change          0\n",
       "Hard sawnwood Price             34\n",
       "Hard sawnwood price % Change    34\n",
       "Hide Price                      34\n",
       "Hide price % change             34\n",
       "Plywood Price                    0\n",
       "Plywood price % Change           0\n",
       "Rubber Price                     0\n",
       "Rubber price % Change            0\n",
       "Softlog Price                   34\n",
       "Softlog price % Change          34\n",
       "Soft sawnwood Price             34\n",
       "Soft sawnwood price % Change    34\n",
       "Wood pulp Price                  1\n",
       "Wood pulp price % Change         1\n",
       "dtype: int64"
      ]
     },
     "execution_count": 6,
     "metadata": {},
     "output_type": "execute_result"
    }
   ],
   "source": [
    "df.isnull().sum()"
   ]
  },
  {
   "cell_type": "markdown",
   "id": "55ec2609-7400-465c-ba87-c2e11534620f",
   "metadata": {},
   "source": [
    "### Limpando os dados"
   ]
  },
  {
   "cell_type": "code",
   "execution_count": 7,
   "id": "5b35f20b-d8e9-4d76-83c5-20ea9cb4fcfa",
   "metadata": {},
   "outputs": [],
   "source": [
    "df = df.replace('%', '', regex=True) #substituir dados com %\n",
    "df = df.replace(',', '', regex=True) #substituir dados com ,\n",
    "df = df.replace('-', '', regex=True) #susbtituir dados com -\n",
    "df = df.replace('', np.nan) \n",
    "df = df.dropna() #apagando linhas com valores nulos"
   ]
  },
  {
   "cell_type": "code",
   "execution_count": 8,
   "id": "9c062b91-dc6a-493a-bd08-5ff052f60b9e",
   "metadata": {},
   "outputs": [
    {
     "data": {
      "text/plain": [
       "Month                           0\n",
       "Coarse wool Price               0\n",
       "Coarse wool price % Change      0\n",
       "Copra Price                     0\n",
       "Copra price % Change            0\n",
       "Cotton Price                    0\n",
       "Cotton price % Change           0\n",
       "Fine wool Price                 0\n",
       "Fine wool price % Change        0\n",
       "Hard log Price                  0\n",
       "Hard log price % Change         0\n",
       "Hard sawnwood Price             0\n",
       "Hard sawnwood price % Change    0\n",
       "Hide Price                      0\n",
       "Hide price % change             0\n",
       "Plywood Price                   0\n",
       "Plywood price % Change          0\n",
       "Rubber Price                    0\n",
       "Rubber price % Change           0\n",
       "Softlog Price                   0\n",
       "Softlog price % Change          0\n",
       "Soft sawnwood Price             0\n",
       "Soft sawnwood price % Change    0\n",
       "Wood pulp Price                 0\n",
       "Wood pulp price % Change        0\n",
       "dtype: int64"
      ]
     },
     "execution_count": 8,
     "metadata": {},
     "output_type": "execute_result"
    }
   ],
   "source": [
    "df.isnull().sum() #para verificar se deu certo"
   ]
  },
  {
   "cell_type": "markdown",
   "id": "38a41492-3a5a-408a-a741-a7bb33b03d0c",
   "metadata": {},
   "source": [
    "### Convertendo tipos de dados"
   ]
  },
  {
   "cell_type": "code",
   "execution_count": 9,
   "id": "d7325bed-7e13-4074-89c7-676c18351fe7",
   "metadata": {},
   "outputs": [
    {
     "data": {
      "text/plain": [
       "Month                            object\n",
       "Coarse wool Price               float64\n",
       "Coarse wool price % Change      float64\n",
       "Copra Price                     float64\n",
       "Copra price % Change            float64\n",
       "Cotton Price                    float64\n",
       "Cotton price % Change           float64\n",
       "Fine wool Price                 float64\n",
       "Fine wool price % Change        float64\n",
       "Hard log Price                  float64\n",
       "Hard log price % Change         float64\n",
       "Hard sawnwood Price             float64\n",
       "Hard sawnwood price % Change    float64\n",
       "Hide Price                      float64\n",
       "Hide price % change             float64\n",
       "Plywood Price                   float64\n",
       "Plywood price % Change          float64\n",
       "Rubber Price                    float64\n",
       "Rubber price % Change           float64\n",
       "Softlog Price                   float64\n",
       "Softlog price % Change          float64\n",
       "Soft sawnwood Price             float64\n",
       "Soft sawnwood price % Change    float64\n",
       "Wood pulp Price                 float64\n",
       "Wood pulp price % Change        float64\n",
       "dtype: object"
      ]
     },
     "execution_count": 9,
     "metadata": {},
     "output_type": "execute_result"
    }
   ],
   "source": [
    "lst = [\"Coarse wool Price\", \"Coarse wool price % Change\", \"Copra Price\", \"Copra price % Change\", \"Cotton price % Change\",\"Fine wool Price\", \"Fine wool price % Change\", \"Hard log price % Change\", \"Hard sawnwood price % Change\", \"Hide price % change\", \"Plywood price % Change\", \"Rubber price % Change\", \"Softlog price % Change\", \"Soft sawnwood price % Change\", \"Wood pulp price % Change\"]\n",
    "df[lst] = df[lst].astype(\"float\")\n",
    "df.dtypes"
   ]
  },
  {
   "cell_type": "code",
   "execution_count": null,
   "id": "50f397bf-b8df-4ebd-813a-ea73b7c61ee0",
   "metadata": {},
   "outputs": [],
   "source": []
  }
 ],
 "metadata": {
  "kernelspec": {
   "display_name": "Python 3 (ipykernel)",
   "language": "python",
   "name": "python3"
  },
  "language_info": {
   "codemirror_mode": {
    "name": "ipython",
    "version": 3
   },
   "file_extension": ".py",
   "mimetype": "text/x-python",
   "name": "python",
   "nbconvert_exporter": "python",
   "pygments_lexer": "ipython3",
   "version": "3.11.7"
  }
 },
 "nbformat": 4,
 "nbformat_minor": 5
}
